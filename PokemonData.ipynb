{
 "cells": [
  {
   "cell_type": "code",
   "execution_count": 4,
   "outputs": [
    {
     "name": "stdout",
     "text": [
      "DataFrame: ",
      "       #                   Name  Type 1  Type 2  HP  Attack  Defense  Sp. Atk  \\\n0      1              Bulbasaur   Grass  Poison  45      49       49       65   \n1      2                Ivysaur   Grass  Poison  60      62       63       80   \n2      3               Venusaur   Grass  Poison  80      82       83      100   \n3      3  VenusaurMega Venusaur   Grass  Poison  80     100      123      122   \n4      4             Charmander    Fire     NaN  39      52       43       60   \n..   ...                    ...     ...     ...  ..     ...      ...      ...   \n441  396                 Starly  Normal  Flying  40      55       30       30   \n442  397               Staravia  Normal  Flying  55      75       50       40   \n443  398              Staraptor  Normal  Flying  85     120       70       50   \n444  399                 Bidoof  Normal     NaN  59      45       40       35   \n445  400                Bibarel  Normal   Water  79      85       60       55   \n\n     Sp. Def  Speed  Generation  Legendary  \n0         65     45           1      False  \n1         80     60           1      False  \n2        100     80           1      False  \n3        120     80           1      False  \n4         50     65           1      False  \n..       ...    ...         ...        ...  \n441       30     60           4      False  \n442       40     80           4      False  \n443       60    100           4      False  \n444       40     31           4      False  \n445       60     71           4      False  \n\n[446 rows x 12 columns]\n"
     ],
     "output_type": "stream"
    }
   ],
   "source": [
    "# Importing pandas library\n",
    "import pandas as pd\n",
    "\n",
    "data_frame = pd.read_csv(\"C:/Users/fTablePandas.csv.txt\")\n",
    "print(\"DataFrame:\", data_frame)\n"
   ],
   "metadata": {
    "collapsed": false,
    "pycharm": {
     "name": "#%%\n",
     "is_executing": false
    }
   }
  }
 ],
 "metadata": {
  "kernelspec": {
   "display_name": "Python 3",
   "language": "python",
   "name": "python3"
  },
  "language_info": {
   "codemirror_mode": {
    "name": "ipython",
    "version": 2
   },
   "file_extension": ".py",
   "mimetype": "text/x-python",
   "name": "python",
   "nbconvert_exporter": "python",
   "pygments_lexer": "ipython2",
   "version": "2.7.6"
  },
  "pycharm": {
   "stem_cell": {
    "cell_type": "raw",
    "source": [],
    "metadata": {
     "collapsed": false
    }
   }
  }
 },
 "nbformat": 4,
 "nbformat_minor": 0
}